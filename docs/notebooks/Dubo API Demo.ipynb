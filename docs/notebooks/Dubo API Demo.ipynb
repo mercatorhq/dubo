{
 "cells": [
  {
   "cell_type": "markdown",
   "id": "56b8749f",
   "metadata": {},
   "source": [
    "### The dubo Python SDK\n",
    "\n",
    "The full docs are at https://docs.dubo.gg\n",
    "\n",
    "- DataFrame API:\n",
    "  - [dubo.ask](#dubo.ask)\n",
    "  - [dubo.chart](#dubo.chart)\n",
    "- [Database API](#Database-API)\n",
    "\n",
    "Free tier requests are rate-limited–if you need a higher rate limit please contact support@dubo.gg."
   ]
  },
  {
   "cell_type": "code",
   "execution_count": null,
   "id": "44d6957e",
   "metadata": {},
   "outputs": [],
   "source": [
    "import dubo\n",
    "print(\"Dubo Version\", dubo.__version__)"
   ]
  },
  {
   "cell_type": "markdown",
   "id": "69f8c9ec",
   "metadata": {},
   "source": [
    "## dubo.ask\n",
    "\n",
    "The dubo library includes convenience functions to run queries on top of Pandas DataFrames.\n",
    "\n",
    "For example, we can load the US Census data below into a Pandas DataFrame and then run `dubo.ask` on top of it."
   ]
  },
  {
   "cell_type": "code",
   "execution_count": null,
   "id": "a6ba1e28",
   "metadata": {},
   "outputs": [],
   "source": [
    "import pandas as pd\n",
    "import dubo\n",
    "\n",
    "\n",
    "# Grab a subset of data grouped by ZIP code from the 2021 American Community Survey\n",
    "DATA_URL = (\n",
    "    \"https://raw.githubusercontent.com/ajduberstein/\"\n",
    "    \"geo_datasets/master/2021_5_yr_acs.csv\"\n",
    ")\n",
    "census_df = pd.read_csv(DATA_URL)\n",
    "census_df['zip_code'] = census_df['zip_code'].apply(lambda x: str(x).zfill(5))\n",
    "census_df.head()"
   ]
  },
  {
   "cell_type": "code",
   "execution_count": null,
   "id": "d5e415ab",
   "metadata": {},
   "outputs": [],
   "source": [
    "dubo.ask(\"What's the most populous ZIP code in the United States?\", census_df, verbose=True)"
   ]
  },
  {
   "cell_type": "markdown",
   "id": "55692288",
   "metadata": {},
   "source": [
    "How does it work? Internally, the library converts your query into a web request to our backend, where it is translated to SQL based on a combination of OpenAI's GPT-4 and other models. Your dataframe is loaded into an in-memory [SQLite3 database](https://www.sqlite.org/index.html) and the SQL returned from the server is then executed in this SQLite instance."
   ]
  },
  {
   "cell_type": "code",
   "execution_count": null,
   "id": "5b724e21",
   "metadata": {},
   "outputs": [],
   "source": [
    "dubo.ask(\n",
    "    \"What are the ten ZIP codes with the largest Hispanic \"\n",
    "    \"populations in the United States?\",\n",
    "    census_df,\n",
    "    verbose=True,\n",
    ")"
   ]
  },
  {
   "cell_type": "code",
   "execution_count": null,
   "id": "24efcfa5",
   "metadata": {},
   "outputs": [],
   "source": [
    "dubo.ask(\n",
    "    \"Where is the wealthiest place in the US that is not majority white?\",\n",
    "    census_df,\n",
    "    verbose=True,\n",
    ")"
   ]
  },
  {
   "cell_type": "markdown",
   "id": "c103ecbc",
   "metadata": {},
   "source": [
    "## dubo.chart"
   ]
  },
  {
   "cell_type": "markdown",
   "id": "7632af8a",
   "metadata": {},
   "source": [
    "Generate charts, using either [pydeck.gl](https://pydeck.gl/) for maps or [Vega-Altair](https://altair-viz.github.io/gallery/index.html) for charts."
   ]
  },
  {
   "cell_type": "code",
   "execution_count": null,
   "id": "6a62f497",
   "metadata": {},
   "outputs": [],
   "source": [
    "dubo.chart(\n",
    "    \"A scatterplot of male vs female population, with substantial opacity on the dots. \"\n",
    "    \"If a dot is more male than female, make it orange.\", census_df, verbose=True)"
   ]
  },
  {
   "cell_type": "markdown",
   "id": "33a2be53",
   "metadata": {},
   "source": [
    "We can also specify the chart type explicitly, rather than let dubo infer it, like we will do on this dataset of power plants."
   ]
  },
  {
   "cell_type": "code",
   "execution_count": null,
   "id": "aff830e0",
   "metadata": {},
   "outputs": [],
   "source": [
    "power_df = pd.read_csv(\"https://raw.githubusercontent.com/ajduberstein/geo_datasets/master/global_power_plant_database.csv\")\n",
    "power_df.tail()"
   ]
  },
  {
   "cell_type": "code",
   "execution_count": null,
   "id": "f01ad2f3",
   "metadata": {},
   "outputs": [],
   "source": [
    "import dubo\n",
    "\n",
    "dubo.chart(\n",
    "    \"A scatterplot of powerplants, zoomed out\",\n",
    "    power_df,\n",
    "    verbose=True,\n",
    "    chart_type='deck_gl',\n",
    "    notebook_display=True\n",
    ")"
   ]
  },
  {
   "cell_type": "markdown",
   "id": "662a54b1",
   "metadata": {},
   "source": [
    "## Database API"
   ]
  },
  {
   "cell_type": "markdown",
   "id": "4a1a7601",
   "metadata": {},
   "source": [
    "By [contacting us](founders@dubo.gg), you can connect our product directly to a database and then query against it. The Database API is modular. You can run a full text-to-SQL pipeline and extract results, or you can simply generate the SQL and not execute it, or just grab the tables that would be relevant for a particular query. You also get higher quality SQL than would be available in our DataFrame library.\n",
    "\n",
    "The example below operates on the 400+ tables of [MusicBrainz](https://musicbrainz.org/doc/MusicBrainz_Database), a crowd-sourced music catalog used in music players like Spotify."
   ]
  },
  {
   "cell_type": "code",
   "execution_count": null,
   "id": "1b9e108f",
   "metadata": {},
   "outputs": [],
   "source": [
    "import dubo\n",
    "from dubo.config import set_dubo_key\n",
    "import pandas as pd\n",
    "\n",
    "# Demo API key\n",
    "dubo.config.set_dubo_key('...')\n",
    "df = pd.DataFrame(dubo.query(\"How many songs belong to artists that began their careers in New York?\").results_set)\n",
    "df.head()"
   ]
  },
  {
   "cell_type": "code",
   "execution_count": null,
   "id": "842758f9",
   "metadata": {},
   "outputs": [],
   "source": [
    "# Just grab the raw SQL\n",
    "dubo.generate_sql(\"How many songs belong to artists that began their careers in New York?\", pretty=True)"
   ]
  },
  {
   "cell_type": "code",
   "execution_count": null,
   "id": "01c1ced4",
   "metadata": {},
   "outputs": [],
   "source": [
    "# Isolate to the tables that may be relevant for the query\n",
    "print('\\n'.join([\n",
    "    tbl.schema_name + '.' + tbl.table_name for tbl in\n",
    "    dubo.search_tables(\"How many songs belong to artists that began their careers in New York?\")\n",
    "]))"
   ]
  }
 ],
 "metadata": {
  "kernelspec": {
   "display_name": "Python 3 (ipykernel)",
   "language": "python",
   "name": "python3"
  },
  "language_info": {
   "codemirror_mode": {
    "name": "ipython",
    "version": 3
   },
   "file_extension": ".py",
   "mimetype": "text/x-python",
   "name": "python",
   "nbconvert_exporter": "python",
   "pygments_lexer": "ipython3",
   "version": "3.10.5"
  }
 },
 "nbformat": 4,
 "nbformat_minor": 5
}
