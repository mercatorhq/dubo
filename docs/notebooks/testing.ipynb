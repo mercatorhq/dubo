{
 "cells": [
  {
   "cell_type": "code",
   "execution_count": null,
   "id": "95013325",
   "metadata": {},
   "outputs": [],
   "source": [
    "import micropip\n",
    "\n",
    "await micropip.install([\"pandas\", \"shapely\", \"pyproj\", \"pydeck\", \"dubo\"])"
   ]
  },
  {
   "cell_type": "markdown",
   "id": "56b8749f",
   "metadata": {},
   "source": [
    "### The dubo Python SDK\n",
    "\n",
    "- [dubo.ask](#dubo.ask)\n",
    "- [dubo.chart](#dubo.chart)\n",
    "- [Using API keys](#Using%20API%20keys)\n",
    "\n",
    "#### Usage notes\n",
    "\n",
    "- All requests are rate-limited–if you need a higher rate limit please contact support@dubo.gg."
   ]
  },
  {
   "cell_type": "markdown",
   "id": "69f8c9ec",
   "metadata": {},
   "source": [
    "## dubo.ask\n",
    "\n",
    "The dubo library includes convenience functions for data professionals to run queries on top of CSVs.\n",
    "\n",
    "For example, we can load the US Census data below into a Pandas DataFrame and then run `dubo.ask` on top of it."
   ]
  },
  {
   "cell_type": "code",
   "execution_count": null,
   "id": "75832219",
   "metadata": {},
   "outputs": [],
   "source": [
    "dubo.__version__.__version__"
   ]
  },
  {
   "cell_type": "code",
   "execution_count": null,
   "id": "a6ba1e28",
   "metadata": {},
   "outputs": [],
   "source": [
    "import pandas as pd\n",
    "import dubo\n",
    "\n",
    "\n",
    "# Grab a subset of data grouped by ZIP code from the 2021 American Community Survey\n",
    "DATA_URL = (\n",
    "    \"https://raw.githubusercontent.com/ajduberstein/\"\n",
    "    \"geo_datasets/master/2021_5_yr_acs.csv\"\n",
    ")\n",
    "census_df = pd.read_csv(DATA_URL)\n",
    "census_df['zip_code'] = census_df['zip_code'].apply(lambda x: str(x).zfill(5))\n",
    "census_df.head()"
   ]
  },
  {
   "cell_type": "code",
   "execution_count": null,
   "id": "d5e415ab",
   "metadata": {},
   "outputs": [],
   "source": [
    "dubo.ask(\n",
    "    \"What's the most populous ZIP code in the United States?\", census_df, verbose=True\n",
    ")"
   ]
  },
  {
   "cell_type": "markdown",
   "id": "55692288",
   "metadata": {},
   "source": [
    "How does it work? Internally, the library converts your query into a web request to our backend, where it is translated to SQL based on a combination of OpenAI's GPT-4 and other models. Your dataframe is loaded into an in-memory [SQLite3 database](https://www.sqlite.org/index.html) and the SQL returned from the server is then executed in this SQLite instance."
   ]
  },
  {
   "cell_type": "code",
   "execution_count": null,
   "id": "5b724e21",
   "metadata": {},
   "outputs": [],
   "source": [
    "dubo.ask(\n",
    "    \"What are the ten ZIP codes with the largest Hispanic \"\n",
    "    \"populations in the United States?\",\n",
    "    census_df,\n",
    "    verbose=True,\n",
    ")"
   ]
  },
  {
   "cell_type": "code",
   "execution_count": null,
   "id": "24efcfa5",
   "metadata": {},
   "outputs": [],
   "source": [
    "dubo.ask(\n",
    "    \"Where is the wealthiest place in the US that is not majority white?\",\n",
    "    census_df,\n",
    "    verbose=True,\n",
    ")"
   ]
  },
  {
   "cell_type": "markdown",
   "id": "c103ecbc",
   "metadata": {},
   "source": [
    "## dubo.chart"
   ]
  },
  {
   "cell_type": "markdown",
   "id": "7632af8a",
   "metadata": {},
   "source": [
    "Generate charts, using either [pydeck.gl](https://pydeck.gl/) for maps or [Vega-Altair](https://altair-viz.github.io/gallery/index.html) for charts.\n",
    "\n",
    "Our backend gives its best guess on if you are requesting a chart or a map, but occasionally gets this wrong. You can always force the API to give a map or a tabular chart by passing"
   ]
  },
  {
   "cell_type": "code",
   "execution_count": null,
   "id": "6a62f497",
   "metadata": {},
   "outputs": [],
   "source": [
    "import dubo\n",
    "dubo.chart(\n",
    "    \"A scatterplot of male vs female population, with substantial opacity on the dots. \"\n",
    "    \"If a dot is more male than female, make it orange.\", census_df, verbose=True)"
   ]
  },
  {
   "cell_type": "markdown",
   "id": "33a2be53",
   "metadata": {},
   "source": [
    "We can also specify the chart type explicitly, rather than let dubo infer it, like we will do on this dataset of power plants."
   ]
  },
  {
   "cell_type": "code",
   "execution_count": null,
   "id": "aff830e0",
   "metadata": {},
   "outputs": [],
   "source": [
    "power_df = pd.read_csv(\"https://raw.githubusercontent.com/ajduberstein/geo_datasets/master/global_power_plant_database.csv\")\n",
    "power_df.tail()"
   ]
  },
  {
   "cell_type": "code",
   "execution_count": null,
   "id": "f01ad2f3",
   "metadata": {},
   "outputs": [],
   "source": [
    "import dubo\n",
    "dubo.chart(\"A scatterplot of powerplants, zoomed out\", power_df, verbose=True, specify_chart_type='DECK_GL')"
   ]
  },
  {
   "cell_type": "markdown",
   "id": "662a54b1",
   "metadata": {},
   "source": [
    "## Using API Keys"
   ]
  },
  {
   "cell_type": "markdown",
   "id": "4a1a7601",
   "metadata": {},
   "source": [
    "By [contacting us](founders@dubo.gg), you can connect our product directly to a database and then query against it. The API is modular–you can run a full text-to-SQL pipeline and extract results from a query ui, simply generate the SQL and not execute it, or just grab the tables that would be relevant for a particular query. In addition to these design benefits, you also get higher quality SQL than would be available in our free library.\n",
    "\n",
    "The example below operates on the 400+ tables of [MusicBrainz](https://musicbrainz.org/doc/MusicBrainz_Database), a crowd-sourced music catalog used in Spotify and elsewhere."
   ]
  },
  {
   "cell_type": "code",
   "execution_count": 1,
   "id": "0ef233dc-1e41-44a6-adac-72b20d2900dc",
   "metadata": {},
   "outputs": [
    {
     "name": "stdout",
     "output_type": "stream",
     "text": [
      "DUBO_ENV is set to: development\n"
     ]
    }
   ],
   "source": [
    "import os\n",
    "\n",
    "os.environ['DUBO_ENV'] = \"development\"\n",
    "# os.environ['DUBO_ENV'] = \"prod\"\n",
    "dubo_env = os.environ.get('DUBO_ENV', 'Not Set')\n",
    "print(f'DUBO_ENV is set to: {dubo_env}')\n"
   ]
  },
  {
   "cell_type": "code",
   "execution_count": 2,
   "id": "1b9e108f",
   "metadata": {},
   "outputs": [
    {
     "name": "stdout",
     "output_type": "stream",
     "text": [
      "Dubo | Examples: https://dubo.gg/ | Discord: https://discord.gg/Cw7rfpkD | Privacy policy: https://mercator.tech/privacy\n"
     ]
    }
   ],
   "source": [
    "import dubo\n",
    "from dubo.config import get_dubo_key, set_dubo_key, BASE_API_URL\n",
    "\n",
    "# Demo API key\n",
    "# dubo.config.set_dubo_key('pk.f7345174d27f4dbc908afadbaa7d69af')\n",
    "# Dayton's local API key\n",
    "dubo.config.set_dubo_key('pk.ecebf40f19614c809368e8ee0955f226')"
   ]
  },
  {
   "cell_type": "code",
   "execution_count": 3,
   "id": "f2127708-cf5e-4078-b831-bb2b9ee8aa49",
   "metadata": {},
   "outputs": [
    {
     "data": {
      "text/plain": [
       "'pk.ecebf40f19614c809368e8ee0955f226'"
      ]
     },
     "execution_count": 3,
     "metadata": {},
     "output_type": "execute_result"
    }
   ],
   "source": [
    "dubo.config.get_dubo_key()"
   ]
  },
  {
   "cell_type": "code",
   "execution_count": 4,
   "id": "e24db696-5c35-4d17-8baf-e26332627a65",
   "metadata": {},
   "outputs": [
    {
     "name": "stdout",
     "output_type": "stream",
     "text": [
      "http://localhost:8080/api/v1/dubo\n"
     ]
    }
   ],
   "source": [
    "print(BASE_API_URL)"
   ]
  },
  {
   "cell_type": "code",
   "execution_count": null,
   "id": "ca91f9f1-4c1f-4578-b8d9-5c7ae8f712a5",
   "metadata": {},
   "outputs": [],
   "source": [
    "dubo.query(\"How many songs belong to artists that began their careers in New York?\")"
   ]
  },
  {
   "cell_type": "code",
   "execution_count": null,
   "id": "842758f9",
   "metadata": {},
   "outputs": [],
   "source": [
    "# Just grab the raw SQL\n",
    "dubo.generate_sql(\"How many songs belong to artists that began their careers in New York?\")"
   ]
  },
  {
   "cell_type": "code",
   "execution_count": null,
   "id": "01c1ced4",
   "metadata": {},
   "outputs": [],
   "source": [
    "# Isolate to the tables that may be relevant for the query\n",
    "dubo.search_tables(\"How many songs belong to artists that began their careers in New York?\")"
   ]
  },
  {
   "cell_type": "code",
   "execution_count": 6,
   "id": "f2b8fd6e-eb68-469e-b285-f2cbfc5c92c8",
   "metadata": {},
   "outputs": [
    {
     "ename": "AttributeError",
     "evalue": "'dict' object has no attribute 'id'",
     "output_type": "error",
     "traceback": [
      "\u001b[0;31m---------------------------------------------------------------------------\u001b[0m",
      "\u001b[0;31mAttributeError\u001b[0m                            Traceback (most recent call last)",
      "Cell \u001b[0;32mIn[6], line 6\u001b[0m\n\u001b[1;32m      3\u001b[0m file_path \u001b[38;5;241m=\u001b[39m os\u001b[38;5;241m.\u001b[39mpath\u001b[38;5;241m.\u001b[39mexpanduser(\u001b[38;5;124m'\u001b[39m\u001b[38;5;124m~/mercator/dubo-api/test/handlers/fixtures/documentation.txt\u001b[39m\u001b[38;5;124m'\u001b[39m)\n\u001b[1;32m      5\u001b[0m \u001b[38;5;28;01mwith\u001b[39;00m \u001b[38;5;28mopen\u001b[39m(file_path, \u001b[38;5;124m'\u001b[39m\u001b[38;5;124mrb\u001b[39m\u001b[38;5;124m'\u001b[39m) \u001b[38;5;28;01mas\u001b[39;00m f:\n\u001b[0;32m----> 6\u001b[0m     \u001b[43mdoc_id\u001b[49m\u001b[38;5;241;43m.\u001b[39;49m\u001b[43mid\u001b[49m \u001b[38;5;241m=\u001b[39m dubo\u001b[38;5;241m.\u001b[39mcreate_doc(\n\u001b[1;32m      7\u001b[0m         file\u001b[38;5;241m=\u001b[39mf, \n\u001b[1;32m      8\u001b[0m         shingle_length\u001b[38;5;241m=\u001b[39m\u001b[38;5;241m1000\u001b[39m, \n\u001b[1;32m      9\u001b[0m         step\u001b[38;5;241m=\u001b[39m\u001b[38;5;241m500\u001b[39m\n\u001b[1;32m     10\u001b[0m     )\n\u001b[1;32m     11\u001b[0m     \u001b[38;5;28mprint\u001b[39m(\u001b[38;5;124m'\u001b[39m\u001b[38;5;124mdoc_id\u001b[39m\u001b[38;5;124m'\u001b[39m)\n\u001b[1;32m     12\u001b[0m     \u001b[38;5;28mprint\u001b[39m(doc_id)\n",
      "\u001b[0;31mAttributeError\u001b[0m: 'dict' object has no attribute 'id'"
     ]
    }
   ],
   "source": [
    "import os\n",
    "\n",
    "file_path = os.path.expanduser('~/mercator/dubo-api/test/handlers/fixtures/documentation.txt')\n",
    "\n",
    "with open(file_path, 'rb') as f:\n",
    "    doc_id.id = dubo.create_doc(\n",
    "        file=f, \n",
    "        shingle_length=1000, \n",
    "        step=500\n",
    "    )\n",
    "    print('doc_id')\n",
    "    print(doc_id)\n",
    "\n",
    "print('get_doc')\n",
    "print(dubo.get_doc(data_source_documentation_id=doc_id))\n",
    "print('get_all_docs')\n",
    "print(dubo.get_all_docs())\n",
    "print('update_doc')\n",
    "print(dubo.update_doc(data_source_documentation_id=doc_id, file_path=file_path))\n",
    "print('delete_doc')\n",
    "print(dubo.delete_doc(data_source_documentation_id=doc_id))"
   ]
  },
  {
   "cell_type": "code",
   "execution_count": null,
   "id": "29f20b3c-1b2f-41d4-927d-8f3703ab899f",
   "metadata": {},
   "outputs": [],
   "source": []
  }
 ],
 "metadata": {
  "kernelspec": {
   "display_name": "Python 3 (ipykernel)",
   "language": "python",
   "name": "python3"
  },
  "language_info": {
   "codemirror_mode": {
    "name": "ipython",
    "version": 3
   },
   "file_extension": ".py",
   "mimetype": "text/x-python",
   "name": "python",
   "nbconvert_exporter": "python",
   "pygments_lexer": "ipython3",
   "version": "3.11.4"
  }
 },
 "nbformat": 4,
 "nbformat_minor": 5
}
