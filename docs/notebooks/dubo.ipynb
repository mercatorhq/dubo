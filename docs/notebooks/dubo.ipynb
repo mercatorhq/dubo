{
 "cells": [
  {
   "cell_type": "markdown",
   "id": "56b8749f",
   "metadata": {},
   "source": [
    "### The dubo Python SDK\n",
    "\n",
    "- [dubo.ask](#dubo.ask)\n",
    "- [dubo.chart](#dubo.chart)\n",
    "- [Using API keys](#Using-API-Keys)\n",
    "\n",
    "Free tier requests are rate-limited–if you need a higher rate limit please contact support@dubo.gg."
   ]
  },
  {
   "cell_type": "code",
   "execution_count": 1,
   "id": "44d6957e",
   "metadata": {},
   "outputs": [
    {
     "name": "stdout",
     "output_type": "stream",
     "text": [
      "Dubo | Examples: https://docs.dubo.gg/ | Contact: mailto:founders@dubo.gg | Privacy policy: https://mercator.tech/privacy\n",
      "Dubo Version 0.2.8\n"
     ]
    }
   ],
   "source": [
    "import dubo\n",
    "print(\"Dubo Version\", dubo.__version__)"
   ]
  },
  {
   "cell_type": "markdown",
   "id": "69f8c9ec",
   "metadata": {},
   "source": [
    "## dubo.ask\n",
    "\n",
    "The dubo library includes convenience functions to run queries on top of Pandas DataFrames.\n",
    "\n",
    "For example, we can load the US Census data below into a Pandas DataFrame and then run `dubo.ask` on top of it."
   ]
  },
  {
   "cell_type": "code",
   "execution_count": 2,
   "id": "a6ba1e28",
   "metadata": {},
   "outputs": [
    {
     "data": {
      "text/html": [
       "<div>\n",
       "<style scoped>\n",
       "    .dataframe tbody tr th:only-of-type {\n",
       "        vertical-align: middle;\n",
       "    }\n",
       "\n",
       "    .dataframe tbody tr th {\n",
       "        vertical-align: top;\n",
       "    }\n",
       "\n",
       "    .dataframe thead th {\n",
       "        text-align: right;\n",
       "    }\n",
       "</style>\n",
       "<table border=\"1\" class=\"dataframe\">\n",
       "  <thead>\n",
       "    <tr style=\"text-align: right;\">\n",
       "      <th></th>\n",
       "      <th>tot_pop</th>\n",
       "      <th>elderly_pop</th>\n",
       "      <th>male_pop</th>\n",
       "      <th>female_pop</th>\n",
       "      <th>white_pop</th>\n",
       "      <th>black_pop</th>\n",
       "      <th>native_american_pop</th>\n",
       "      <th>asian_pop</th>\n",
       "      <th>two_or_more_pop</th>\n",
       "      <th>hispanic_pop</th>\n",
       "      <th>...</th>\n",
       "      <th>pop_35_to_44_years</th>\n",
       "      <th>pop_45_to_54_years</th>\n",
       "      <th>pop_55_to_59_years</th>\n",
       "      <th>pop_60_to_64_years</th>\n",
       "      <th>pop_65_to_74_years</th>\n",
       "      <th>pop_75_to_84_years</th>\n",
       "      <th>pop_85_years_and_over</th>\n",
       "      <th>per_capita_income</th>\n",
       "      <th>median_income_for_workers</th>\n",
       "      <th>zip_code</th>\n",
       "    </tr>\n",
       "  </thead>\n",
       "  <tbody>\n",
       "    <tr>\n",
       "      <th>0</th>\n",
       "      <td>17126.0</td>\n",
       "      <td>3478.0</td>\n",
       "      <td>8451.0</td>\n",
       "      <td>8675.0</td>\n",
       "      <td>15249.0</td>\n",
       "      <td>358.0</td>\n",
       "      <td>111.0</td>\n",
       "      <td>2.0</td>\n",
       "      <td>888.0</td>\n",
       "      <td>17038.0</td>\n",
       "      <td>...</td>\n",
       "      <td>1967.0</td>\n",
       "      <td>2350.0</td>\n",
       "      <td>1237.0</td>\n",
       "      <td>1282.0</td>\n",
       "      <td>1986.0</td>\n",
       "      <td>1088.0</td>\n",
       "      <td>404.0</td>\n",
       "      <td>7587.0</td>\n",
       "      <td>12541.0</td>\n",
       "      <td>00601</td>\n",
       "    </tr>\n",
       "    <tr>\n",
       "      <th>1</th>\n",
       "      <td>37895.0</td>\n",
       "      <td>7768.0</td>\n",
       "      <td>18588.0</td>\n",
       "      <td>19307.0</td>\n",
       "      <td>35571.0</td>\n",
       "      <td>10754.0</td>\n",
       "      <td>9157.0</td>\n",
       "      <td>46.0</td>\n",
       "      <td>12405.0</td>\n",
       "      <td>35649.0</td>\n",
       "      <td>...</td>\n",
       "      <td>4680.0</td>\n",
       "      <td>5082.0</td>\n",
       "      <td>2736.0</td>\n",
       "      <td>3130.0</td>\n",
       "      <td>4605.0</td>\n",
       "      <td>2349.0</td>\n",
       "      <td>814.0</td>\n",
       "      <td>10699.0</td>\n",
       "      <td>14180.0</td>\n",
       "      <td>00602</td>\n",
       "    </tr>\n",
       "    <tr>\n",
       "      <th>2</th>\n",
       "      <td>49136.0</td>\n",
       "      <td>11025.0</td>\n",
       "      <td>23817.0</td>\n",
       "      <td>25319.0</td>\n",
       "      <td>39975.0</td>\n",
       "      <td>2621.0</td>\n",
       "      <td>669.0</td>\n",
       "      <td>61.0</td>\n",
       "      <td>3750.0</td>\n",
       "      <td>48121.0</td>\n",
       "      <td>...</td>\n",
       "      <td>5962.0</td>\n",
       "      <td>6312.0</td>\n",
       "      <td>3259.0</td>\n",
       "      <td>3467.0</td>\n",
       "      <td>6225.0</td>\n",
       "      <td>3774.0</td>\n",
       "      <td>1026.0</td>\n",
       "      <td>12280.0</td>\n",
       "      <td>17449.0</td>\n",
       "      <td>00603</td>\n",
       "    </tr>\n",
       "    <tr>\n",
       "      <th>3</th>\n",
       "      <td>5751.0</td>\n",
       "      <td>1309.0</td>\n",
       "      <td>2817.0</td>\n",
       "      <td>2934.0</td>\n",
       "      <td>3488.0</td>\n",
       "      <td>137.0</td>\n",
       "      <td>21.0</td>\n",
       "      <td>0.0</td>\n",
       "      <td>261.0</td>\n",
       "      <td>5710.0</td>\n",
       "      <td>...</td>\n",
       "      <td>691.0</td>\n",
       "      <td>731.0</td>\n",
       "      <td>385.0</td>\n",
       "      <td>442.0</td>\n",
       "      <td>760.0</td>\n",
       "      <td>273.0</td>\n",
       "      <td>276.0</td>\n",
       "      <td>8574.0</td>\n",
       "      <td>15565.0</td>\n",
       "      <td>00606</td>\n",
       "    </tr>\n",
       "    <tr>\n",
       "      <th>4</th>\n",
       "      <td>26153.0</td>\n",
       "      <td>5423.0</td>\n",
       "      <td>12678.0</td>\n",
       "      <td>13475.0</td>\n",
       "      <td>24015.0</td>\n",
       "      <td>6882.0</td>\n",
       "      <td>5659.0</td>\n",
       "      <td>30.0</td>\n",
       "      <td>8216.0</td>\n",
       "      <td>25053.0</td>\n",
       "      <td>...</td>\n",
       "      <td>3295.0</td>\n",
       "      <td>3688.0</td>\n",
       "      <td>1649.0</td>\n",
       "      <td>1944.0</td>\n",
       "      <td>3010.0</td>\n",
       "      <td>1952.0</td>\n",
       "      <td>461.0</td>\n",
       "      <td>11638.0</td>\n",
       "      <td>16262.0</td>\n",
       "      <td>00610</td>\n",
       "    </tr>\n",
       "  </tbody>\n",
       "</table>\n",
       "<p>5 rows × 29 columns</p>\n",
       "</div>"
      ],
      "text/plain": [
       "   tot_pop  elderly_pop  male_pop  female_pop  white_pop  black_pop  \\\n",
       "0  17126.0       3478.0    8451.0      8675.0    15249.0      358.0   \n",
       "1  37895.0       7768.0   18588.0     19307.0    35571.0    10754.0   \n",
       "2  49136.0      11025.0   23817.0     25319.0    39975.0     2621.0   \n",
       "3   5751.0       1309.0    2817.0      2934.0     3488.0      137.0   \n",
       "4  26153.0       5423.0   12678.0     13475.0    24015.0     6882.0   \n",
       "\n",
       "   native_american_pop  asian_pop  two_or_more_pop  hispanic_pop  ...  \\\n",
       "0                111.0        2.0            888.0       17038.0  ...   \n",
       "1               9157.0       46.0          12405.0       35649.0  ...   \n",
       "2                669.0       61.0           3750.0       48121.0  ...   \n",
       "3                 21.0        0.0            261.0        5710.0  ...   \n",
       "4               5659.0       30.0           8216.0       25053.0  ...   \n",
       "\n",
       "   pop_35_to_44_years  pop_45_to_54_years  pop_55_to_59_years  \\\n",
       "0              1967.0              2350.0              1237.0   \n",
       "1              4680.0              5082.0              2736.0   \n",
       "2              5962.0              6312.0              3259.0   \n",
       "3               691.0               731.0               385.0   \n",
       "4              3295.0              3688.0              1649.0   \n",
       "\n",
       "   pop_60_to_64_years  pop_65_to_74_years  pop_75_to_84_years  \\\n",
       "0              1282.0              1986.0              1088.0   \n",
       "1              3130.0              4605.0              2349.0   \n",
       "2              3467.0              6225.0              3774.0   \n",
       "3               442.0               760.0               273.0   \n",
       "4              1944.0              3010.0              1952.0   \n",
       "\n",
       "   pop_85_years_and_over  per_capita_income  median_income_for_workers  \\\n",
       "0                  404.0             7587.0                    12541.0   \n",
       "1                  814.0            10699.0                    14180.0   \n",
       "2                 1026.0            12280.0                    17449.0   \n",
       "3                  276.0             8574.0                    15565.0   \n",
       "4                  461.0            11638.0                    16262.0   \n",
       "\n",
       "   zip_code  \n",
       "0     00601  \n",
       "1     00602  \n",
       "2     00603  \n",
       "3     00606  \n",
       "4     00610  \n",
       "\n",
       "[5 rows x 29 columns]"
      ]
     },
     "execution_count": 2,
     "metadata": {},
     "output_type": "execute_result"
    }
   ],
   "source": [
    "import pandas as pd\n",
    "import dubo\n",
    "\n",
    "\n",
    "# Grab a subset of data grouped by ZIP code from the 2021 American Community Survey\n",
    "DATA_URL = (\n",
    "    \"https://raw.githubusercontent.com/ajduberstein/\"\n",
    "    \"geo_datasets/master/2021_5_yr_acs.csv\"\n",
    ")\n",
    "census_df = pd.read_csv(DATA_URL)\n",
    "census_df['zip_code'] = census_df['zip_code'].apply(lambda x: str(x).zfill(5))\n",
    "census_df.head()"
   ]
  },
  {
   "cell_type": "code",
   "execution_count": 3,
   "id": "d5e415ab",
   "metadata": {},
   "outputs": [
    {
     "ename": "AttributeError",
     "evalue": "'NoneType' object has no attribute 'query_text'",
     "output_type": "error",
     "traceback": [
      "\u001b[0;31m---------------------------------------------------------------------------\u001b[0m",
      "\u001b[0;31mAttributeError\u001b[0m                            Traceback (most recent call last)",
      "Cell \u001b[0;32mIn[3], line 1\u001b[0m\n\u001b[0;32m----> 1\u001b[0m \u001b[43mdubo\u001b[49m\u001b[38;5;241;43m.\u001b[39;49m\u001b[43mask\u001b[49m\u001b[43m(\u001b[49m\n\u001b[1;32m      2\u001b[0m \u001b[43m    \u001b[49m\u001b[38;5;124;43m\"\u001b[39;49m\u001b[38;5;124;43mWhat\u001b[39;49m\u001b[38;5;124;43m'\u001b[39;49m\u001b[38;5;124;43ms the most populous ZIP code in the United States?\u001b[39;49m\u001b[38;5;124;43m\"\u001b[39;49m\u001b[43m,\u001b[49m\u001b[43m \u001b[49m\u001b[43mcensus_df\u001b[49m\u001b[43m,\u001b[49m\u001b[43m \u001b[49m\u001b[43mverbose\u001b[49m\u001b[38;5;241;43m=\u001b[39;49m\u001b[38;5;28;43;01mTrue\u001b[39;49;00m\n\u001b[1;32m      3\u001b[0m \u001b[43m)\u001b[49m\n",
      "File \u001b[0;32m~/Desktop/env/lib/python3.10/site-packages/dubo/ask_dubo.py:97\u001b[0m, in \u001b[0;36mask\u001b[0;34m(query, data, verbose, rtype, column_descriptions)\u001b[0m\n\u001b[1;32m     89\u001b[0m possible_query \u001b[38;5;241m=\u001b[39m read_query_v1_dubo_query_get\u001b[38;5;241m.\u001b[39msync(\n\u001b[1;32m     90\u001b[0m     client\u001b[38;5;241m=\u001b[39mclient,\n\u001b[1;32m     91\u001b[0m     user_query\u001b[38;5;241m=\u001b[39mquery,\n\u001b[0;32m   (...)\u001b[0m\n\u001b[1;32m     94\u001b[0m     json_body\u001b[38;5;241m=\u001b[39mBodyReadQueryV1DuboQueryGet(),\n\u001b[1;32m     95\u001b[0m )\n\u001b[1;32m     96\u001b[0m \u001b[38;5;28;01mtry\u001b[39;00m:\n\u001b[0;32m---> 97\u001b[0m     result \u001b[38;5;241m=\u001b[39m \u001b[43mpossible_query\u001b[49m\u001b[38;5;241;43m.\u001b[39;49m\u001b[43mquery_text\u001b[49m\n\u001b[1;32m     98\u001b[0m     \u001b[38;5;28;01mif\u001b[39;00m verbose:\n\u001b[1;32m     99\u001b[0m         \u001b[38;5;28mprint\u001b[39m(result)\n",
      "\u001b[0;31mAttributeError\u001b[0m: 'NoneType' object has no attribute 'query_text'"
     ]
    }
   ],
   "source": [
    "dubo.ask(\n",
    "    \"What's the most populous ZIP code in the United States?\", census_df, verbose=True\n",
    ")"
   ]
  },
  {
   "cell_type": "markdown",
   "id": "55692288",
   "metadata": {},
   "source": [
    "How does it work? Internally, the library converts your query into a web request to our backend, where it is translated to SQL based on a combination of OpenAI's GPT-4 and other models. Your dataframe is loaded into an in-memory [SQLite3 database](https://www.sqlite.org/index.html) and the SQL returned from the server is then executed in this SQLite instance."
   ]
  },
  {
   "cell_type": "code",
   "execution_count": null,
   "id": "5b724e21",
   "metadata": {},
   "outputs": [],
   "source": [
    "dubo.ask(\n",
    "    \"What are the ten ZIP codes with the largest Hispanic \"\n",
    "    \"populations in the United States?\",\n",
    "    census_df,\n",
    "    verbose=True,\n",
    ")"
   ]
  },
  {
   "cell_type": "code",
   "execution_count": null,
   "id": "24efcfa5",
   "metadata": {},
   "outputs": [],
   "source": [
    "dubo.ask(\n",
    "    \"Where is the wealthiest place in the US that is not majority white?\",\n",
    "    census_df,\n",
    "    verbose=True,\n",
    ")"
   ]
  },
  {
   "cell_type": "markdown",
   "id": "c103ecbc",
   "metadata": {},
   "source": [
    "## dubo.chart"
   ]
  },
  {
   "cell_type": "markdown",
   "id": "7632af8a",
   "metadata": {},
   "source": [
    "Generate charts, using either [pydeck.gl](https://pydeck.gl/) for maps or [Vega-Altair](https://altair-viz.github.io/gallery/index.html) for charts."
   ]
  },
  {
   "cell_type": "code",
   "execution_count": null,
   "id": "6a62f497",
   "metadata": {},
   "outputs": [],
   "source": [
    "import dubo\n",
    "dubo.chart(\n",
    "    \"A scatterplot of male vs female population, with substantial opacity on the dots. \"\n",
    "    \"If a dot is more male than female, make it orange.\", census_df, verbose=True)"
   ]
  },
  {
   "cell_type": "markdown",
   "id": "33a2be53",
   "metadata": {},
   "source": [
    "We can also specify the chart type explicitly, rather than let dubo infer it, like we will do on this dataset of power plants."
   ]
  },
  {
   "cell_type": "code",
   "execution_count": null,
   "id": "aff830e0",
   "metadata": {},
   "outputs": [],
   "source": [
    "power_df = pd.read_csv(open_url(\"https://raw.githubusercontent.com/ajduberstein/geo_datasets/master/global_power_plant_database.csv\"))\n",
    "power_df.tail()"
   ]
  },
  {
   "cell_type": "code",
   "execution_count": null,
   "id": "f01ad2f3",
   "metadata": {},
   "outputs": [],
   "source": [
    "import dubo\n",
    "\n",
    "dubo.chart(\n",
    "    \"A scatterplot of powerplants, zoomed out\",\n",
    "    power_df,\n",
    "    verbose=True,\n",
    "    specify_chart_type='DECK_GL',\n",
    "    notebook_display=True\n",
    ")"
   ]
  },
  {
   "cell_type": "markdown",
   "id": "662a54b1",
   "metadata": {},
   "source": [
    "## Using API Keys"
   ]
  },
  {
   "cell_type": "markdown",
   "id": "4a1a7601",
   "metadata": {},
   "source": [
    "By [contacting us](founders@dubo.gg), you can connect our product directly to a database and then query against it. The API is modular–you can run a full text-to-SQL pipeline and extract results from a query ui, simply generate the SQL and not execute it, or just grab the tables that would be relevant for a particular query. In addition to these design benefits, you also get higher quality SQL than would be available in our free library.\n",
    "\n",
    "The example below operates on the 400+ tables of [MusicBrainz](https://musicbrainz.org/doc/MusicBrainz_Database), a crowd-sourced music catalog used in Spotify and elsewhere."
   ]
  },
  {
   "cell_type": "code",
   "execution_count": null,
   "id": "1b9e108f",
   "metadata": {},
   "outputs": [],
   "source": [
    "import dubo\n",
    "from dubo.config import set_dubo_key\n",
    "\n",
    "# Demo API key\n",
    "dubo.config.set_dubo_key('pk.f7345174d27f4dbc908afadbaa7d69af')\n",
    "dubo.query(\"How many songs belong to artists that began their careers in New York?\")"
   ]
  },
  {
   "cell_type": "code",
   "execution_count": null,
   "id": "842758f9",
   "metadata": {},
   "outputs": [],
   "source": [
    "# Just grab the raw SQL\n",
    "dubo.generate_sql(\"How many songs belong to artists that began their careers in New York?\")"
   ]
  },
  {
   "cell_type": "code",
   "execution_count": null,
   "id": "01c1ced4",
   "metadata": {},
   "outputs": [],
   "source": [
    "# Isolate to the tables that may be relevant for the query\n",
    "dubo.search_tables(\"How many songs belong to artists that began their careers in New York?\")"
   ]
  }
 ],
 "metadata": {
  "kernelspec": {
   "display_name": "Python 3 (ipykernel)",
   "language": "python",
   "name": "python3"
  },
  "language_info": {
   "codemirror_mode": {
    "name": "ipython",
    "version": 3
   },
   "file_extension": ".py",
   "mimetype": "text/x-python",
   "name": "python",
   "nbconvert_exporter": "python",
   "pygments_lexer": "ipython3",
   "version": "3.10.5"
  }
 },
 "nbformat": 4,
 "nbformat_minor": 5
}
