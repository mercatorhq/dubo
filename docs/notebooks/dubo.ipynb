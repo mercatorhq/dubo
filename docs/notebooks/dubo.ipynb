{
 "cells": [
  {
   "cell_type": "code",
   "execution_count": null,
   "id": "95013325",
   "metadata": {},
   "outputs": [],
   "source": [
    "import micropip\n",
    "await micropip.install(['pandas', 'shapely', 'pyproj', 'pydeck', 'dubo'])"
   ]
  },
  {
   "cell_type": "markdown",
   "id": "c8f5da24",
   "metadata": {},
   "source": [
    "<h1 style='text-align:left;font-size:6rem;'><span style='color:cornflowerblue;'>dubo</span> makes data analysis simple </h1>\n",
    "\n",
    "<p style=\"text-align:left;\">Use <a href=\"https://e2eml.school/transformers.html\">GPTs</a> tuned with SQL queries to make EDA fast and easy.</p>\n",
    "\n",
    "<section style='background:cornflowerblue;height:100px;color:white;font-family:monospace;white-space:pre;padding-top:1rem;margin-top:1rem;'>\n",
    "    <span style=\"color:white;font-weight:bold;\">dubo</span>.<span style=\"color:white;font-weight:bold;\">ask</span>(\"What's the most populous ZIP code in the United States?\", df)\n",
    "    > 77449\n",
    "</section>\n",
    "\n",
    "To install, simply run `pip install dubo`"
   ]
  },
  {
   "cell_type": "code",
   "execution_count": 3,
   "id": "a6ba1e28",
   "metadata": {},
   "outputs": [
    {
     "data": {
      "text/html": [
       "<div>\n",
       "<style scoped>\n",
       "    .dataframe tbody tr th:only-of-type {\n",
       "        vertical-align: middle;\n",
       "    }\n",
       "\n",
       "    .dataframe tbody tr th {\n",
       "        vertical-align: top;\n",
       "    }\n",
       "\n",
       "    .dataframe thead th {\n",
       "        text-align: right;\n",
       "    }\n",
       "</style>\n",
       "<table border=\"1\" class=\"dataframe\">\n",
       "  <thead>\n",
       "    <tr style=\"text-align: right;\">\n",
       "      <th></th>\n",
       "      <th>tot_pop</th>\n",
       "      <th>elderly_pop</th>\n",
       "      <th>male_pop</th>\n",
       "      <th>female_pop</th>\n",
       "      <th>white_pop</th>\n",
       "      <th>black_pop</th>\n",
       "      <th>native_american_pop</th>\n",
       "      <th>asian_pop</th>\n",
       "      <th>two_or_more_pop</th>\n",
       "      <th>hispanic_pop</th>\n",
       "      <th>...</th>\n",
       "      <th>pop_35_to_44_years</th>\n",
       "      <th>pop_45_to_54_years</th>\n",
       "      <th>pop_55_to_59_years</th>\n",
       "      <th>pop_60_to_64_years</th>\n",
       "      <th>pop_65_to_74_years</th>\n",
       "      <th>pop_75_to_84_years</th>\n",
       "      <th>pop_85_years_and_over</th>\n",
       "      <th>per_capita_income</th>\n",
       "      <th>median_income_for_workers</th>\n",
       "      <th>zip_code</th>\n",
       "    </tr>\n",
       "  </thead>\n",
       "  <tbody>\n",
       "    <tr>\n",
       "      <th>0</th>\n",
       "      <td>17126.0</td>\n",
       "      <td>3478.0</td>\n",
       "      <td>8451.0</td>\n",
       "      <td>8675.0</td>\n",
       "      <td>15249.0</td>\n",
       "      <td>358.0</td>\n",
       "      <td>111.0</td>\n",
       "      <td>2.0</td>\n",
       "      <td>888.0</td>\n",
       "      <td>17038.0</td>\n",
       "      <td>...</td>\n",
       "      <td>1967.0</td>\n",
       "      <td>2350.0</td>\n",
       "      <td>1237.0</td>\n",
       "      <td>1282.0</td>\n",
       "      <td>1986.0</td>\n",
       "      <td>1088.0</td>\n",
       "      <td>404.0</td>\n",
       "      <td>7587.0</td>\n",
       "      <td>12541.0</td>\n",
       "      <td>601</td>\n",
       "    </tr>\n",
       "    <tr>\n",
       "      <th>1</th>\n",
       "      <td>37895.0</td>\n",
       "      <td>7768.0</td>\n",
       "      <td>18588.0</td>\n",
       "      <td>19307.0</td>\n",
       "      <td>35571.0</td>\n",
       "      <td>10754.0</td>\n",
       "      <td>9157.0</td>\n",
       "      <td>46.0</td>\n",
       "      <td>12405.0</td>\n",
       "      <td>35649.0</td>\n",
       "      <td>...</td>\n",
       "      <td>4680.0</td>\n",
       "      <td>5082.0</td>\n",
       "      <td>2736.0</td>\n",
       "      <td>3130.0</td>\n",
       "      <td>4605.0</td>\n",
       "      <td>2349.0</td>\n",
       "      <td>814.0</td>\n",
       "      <td>10699.0</td>\n",
       "      <td>14180.0</td>\n",
       "      <td>602</td>\n",
       "    </tr>\n",
       "    <tr>\n",
       "      <th>2</th>\n",
       "      <td>49136.0</td>\n",
       "      <td>11025.0</td>\n",
       "      <td>23817.0</td>\n",
       "      <td>25319.0</td>\n",
       "      <td>39975.0</td>\n",
       "      <td>2621.0</td>\n",
       "      <td>669.0</td>\n",
       "      <td>61.0</td>\n",
       "      <td>3750.0</td>\n",
       "      <td>48121.0</td>\n",
       "      <td>...</td>\n",
       "      <td>5962.0</td>\n",
       "      <td>6312.0</td>\n",
       "      <td>3259.0</td>\n",
       "      <td>3467.0</td>\n",
       "      <td>6225.0</td>\n",
       "      <td>3774.0</td>\n",
       "      <td>1026.0</td>\n",
       "      <td>12280.0</td>\n",
       "      <td>17449.0</td>\n",
       "      <td>603</td>\n",
       "    </tr>\n",
       "    <tr>\n",
       "      <th>3</th>\n",
       "      <td>5751.0</td>\n",
       "      <td>1309.0</td>\n",
       "      <td>2817.0</td>\n",
       "      <td>2934.0</td>\n",
       "      <td>3488.0</td>\n",
       "      <td>137.0</td>\n",
       "      <td>21.0</td>\n",
       "      <td>0.0</td>\n",
       "      <td>261.0</td>\n",
       "      <td>5710.0</td>\n",
       "      <td>...</td>\n",
       "      <td>691.0</td>\n",
       "      <td>731.0</td>\n",
       "      <td>385.0</td>\n",
       "      <td>442.0</td>\n",
       "      <td>760.0</td>\n",
       "      <td>273.0</td>\n",
       "      <td>276.0</td>\n",
       "      <td>8574.0</td>\n",
       "      <td>15565.0</td>\n",
       "      <td>606</td>\n",
       "    </tr>\n",
       "    <tr>\n",
       "      <th>4</th>\n",
       "      <td>26153.0</td>\n",
       "      <td>5423.0</td>\n",
       "      <td>12678.0</td>\n",
       "      <td>13475.0</td>\n",
       "      <td>24015.0</td>\n",
       "      <td>6882.0</td>\n",
       "      <td>5659.0</td>\n",
       "      <td>30.0</td>\n",
       "      <td>8216.0</td>\n",
       "      <td>25053.0</td>\n",
       "      <td>...</td>\n",
       "      <td>3295.0</td>\n",
       "      <td>3688.0</td>\n",
       "      <td>1649.0</td>\n",
       "      <td>1944.0</td>\n",
       "      <td>3010.0</td>\n",
       "      <td>1952.0</td>\n",
       "      <td>461.0</td>\n",
       "      <td>11638.0</td>\n",
       "      <td>16262.0</td>\n",
       "      <td>610</td>\n",
       "    </tr>\n",
       "  </tbody>\n",
       "</table>\n",
       "<p>5 rows × 29 columns</p>\n",
       "</div>"
      ],
      "text/plain": [
       "   tot_pop  elderly_pop  male_pop  female_pop  white_pop  black_pop  \\\n",
       "0  17126.0       3478.0    8451.0      8675.0    15249.0      358.0   \n",
       "1  37895.0       7768.0   18588.0     19307.0    35571.0    10754.0   \n",
       "2  49136.0      11025.0   23817.0     25319.0    39975.0     2621.0   \n",
       "3   5751.0       1309.0    2817.0      2934.0     3488.0      137.0   \n",
       "4  26153.0       5423.0   12678.0     13475.0    24015.0     6882.0   \n",
       "\n",
       "   native_american_pop  asian_pop  two_or_more_pop  hispanic_pop  ...  \\\n",
       "0                111.0        2.0            888.0       17038.0  ...   \n",
       "1               9157.0       46.0          12405.0       35649.0  ...   \n",
       "2                669.0       61.0           3750.0       48121.0  ...   \n",
       "3                 21.0        0.0            261.0        5710.0  ...   \n",
       "4               5659.0       30.0           8216.0       25053.0  ...   \n",
       "\n",
       "   pop_35_to_44_years  pop_45_to_54_years  pop_55_to_59_years  \\\n",
       "0              1967.0              2350.0              1237.0   \n",
       "1              4680.0              5082.0              2736.0   \n",
       "2              5962.0              6312.0              3259.0   \n",
       "3               691.0               731.0               385.0   \n",
       "4              3295.0              3688.0              1649.0   \n",
       "\n",
       "   pop_60_to_64_years  pop_65_to_74_years  pop_75_to_84_years  \\\n",
       "0              1282.0              1986.0              1088.0   \n",
       "1              3130.0              4605.0              2349.0   \n",
       "2              3467.0              6225.0              3774.0   \n",
       "3               442.0               760.0               273.0   \n",
       "4              1944.0              3010.0              1952.0   \n",
       "\n",
       "   pop_85_years_and_over  per_capita_income  median_income_for_workers  \\\n",
       "0                  404.0             7587.0                    12541.0   \n",
       "1                  814.0            10699.0                    14180.0   \n",
       "2                 1026.0            12280.0                    17449.0   \n",
       "3                  276.0             8574.0                    15565.0   \n",
       "4                  461.0            11638.0                    16262.0   \n",
       "\n",
       "   zip_code  \n",
       "0       601  \n",
       "1       602  \n",
       "2       603  \n",
       "3       606  \n",
       "4       610  \n",
       "\n",
       "[5 rows x 29 columns]"
      ]
     },
     "execution_count": 3,
     "metadata": {},
     "output_type": "execute_result"
    }
   ],
   "source": [
    "import pandas as pd\n",
    "import dubo\n",
    "\n",
    "\n",
    "# Grab a subset of data grouped by ZIP code from the 2021 American Community Survey\n",
    "DATA_URL = (\n",
    "    'https://raw.githubusercontent.com/ajduberstein/'\n",
    "    'geo_datasets/master/2021_5_yr_acs.csv'\n",
    ")\n",
    "census_df = pd.read_csv(DATA_URL)\n",
    "census_df.head()"
   ]
  },
  {
   "cell_type": "code",
   "execution_count": 5,
   "id": "d5e415ab",
   "metadata": {},
   "outputs": [
    {
     "name": "stdout",
     "output_type": "stream",
     "text": [
      "SELECT zip_code FROM tbl \n",
      "    ORDER BY tot_pop DESC \n",
      "    LIMIT 1;\n"
     ]
    },
    {
     "data": {
      "text/plain": [
       "[(8701,)]"
      ]
     },
     "execution_count": 5,
     "metadata": {},
     "output_type": "execute_result"
    }
   ],
   "source": [
    "dubo.ask(\n",
    "    \"What's the most populous ZIP code in the United States?\",\n",
    "    census_df,\n",
    "    verbose=True)"
   ]
  },
  {
   "cell_type": "code",
   "execution_count": 22,
   "id": "90123b98",
   "metadata": {},
   "outputs": [
    {
     "data": {
      "text/plain": [
       "'Dubo | Examples: https://dubo.mercator.tech/ | Feedback? https://forms.gle/KvPm6niv9oUGRZhh8 | Privacy policy: https://mercator.tech/privacy'"
      ]
     },
     "execution_count": 22,
     "metadata": {},
     "output_type": "execute_result"
    }
   ],
   "source": [
    "from dubo import MSG\n",
    "MSG"
   ]
  },
  {
   "cell_type": "code",
   "execution_count": 7,
   "id": "5b724e21",
   "metadata": {},
   "outputs": [
    {
     "name": "stdout",
     "output_type": "stream",
     "text": [
      "SELECT zip_code, hispanic_pop\n",
      "    FROM tbl\n",
      "    ORDER BY hispanic_pop DESC\n",
      "    LIMIT 10;\n"
     ]
    },
    {
     "data": {
      "text/plain": [
       "[(90011, 100502.0),\n",
       " (79936, 93807.0),\n",
       " (926, 93311.0),\n",
       " (90201, 90673.0),\n",
       " (91331, 89439.0),\n",
       " (90280, 88872.0),\n",
       " (11368, 88079.0),\n",
       " (78521, 85910.0),\n",
       " (92335, 82412.0),\n",
       " (78542, 80178.0)]"
      ]
     },
     "execution_count": 7,
     "metadata": {},
     "output_type": "execute_result"
    }
   ],
   "source": [
    "dubo.ask(\n",
    "    \"What are the ten ZIP codes with the largest Hispanic \"\n",
    "    \"populations in the United States?\", census_df, verbose=True)"
   ]
  },
  {
   "cell_type": "code",
   "execution_count": 17,
   "id": "24efcfa5",
   "metadata": {},
   "outputs": [
    {
     "name": "stdout",
     "output_type": "stream",
     "text": [
      "SELECT zip_code FROM tbl\n",
      "    WHERE white_pop < (tot_pop / 2)\n",
      "    ORDER BY median_income_for_workers DESC\n",
      "    LIMIT 1;\n"
     ]
    },
    {
     "data": {
      "text/plain": [
       "[(11973,)]"
      ]
     },
     "execution_count": 17,
     "metadata": {},
     "output_type": "execute_result"
    }
   ],
   "source": [
    "# Try it yourself!\n",
    "dubo.ask(\"Where is the wealthiest place in the US that is not majority white?\", census_df, verbose=True)"
   ]
  },
  {
   "cell_type": "code",
   "execution_count": null,
   "id": "6a62f497",
   "metadata": {},
   "outputs": [],
   "source": [
    "## COMING SOON - Joins\n",
    "# \n",
    "# dubo.ask(\n",
    "#     \"Where are the wealthiest under-65 ZIP codes in the United States?\",\n",
    "#     [census_df, zip_code_locations_df])\n",
    "#\n",
    "## COMING SOON - Follow-up queries\n",
    "# \n",
    "# dubo.followup(\"Which of those areas are majority non-white?\")\n",
    "#\n",
    "## COMING SOON - Direct SQL connections\n",
    "## COMING SOON - Fine-tune to your company's database "
   ]
  },
  {
   "cell_type": "code",
   "execution_count": 13,
   "id": "f01ad2f3",
   "metadata": {},
   "outputs": [
    {
     "data": {
      "application/vnd.jupyter.widget-view+json": {
       "model_id": "a8cce64902104532a0471ae73d83160e",
       "version_major": 2,
       "version_minor": 0
      },
      "text/plain": [
       "HBox(children=(Button(description='Click Me!', style=ButtonStyle()), Text(value='', description='Path:')))"
      ]
     },
     "metadata": {},
     "output_type": "display_data"
    }
   ],
   "source": [
    "import ipywidgets as widgets\n",
    "from IPython.display import display\n",
    "button = widgets.Button(description=\"Click Me!\")\n",
    "inp = widgets.Text(description='Path:')\n",
    "Box = widgets.HBox([button,inp])\n",
    "Box"
   ]
  },
  {
   "cell_type": "markdown",
   "id": "33a2be53",
   "metadata": {},
   "source": [
    "Interested in accelerating your analytics? Apply for our pilot program: support@mercator.tech"
   ]
  }
 ],
 "metadata": {
  "kernelspec": {
   "display_name": "Python 3 (ipykernel)",
   "language": "python",
   "name": "python3"
  },
  "language_info": {
   "codemirror_mode": {
    "name": "ipython",
    "version": 3
   },
   "file_extension": ".py",
   "mimetype": "text/x-python",
   "name": "python",
   "nbconvert_exporter": "python",
   "pygments_lexer": "ipython3",
   "version": "3.10.5"
  }
 },
 "nbformat": 4,
 "nbformat_minor": 5
}
