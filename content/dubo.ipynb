{
 "cells": [
  {
   "cell_type": "code",
   "execution_count": null,
   "id": "95013325",
   "metadata": {},
   "outputs": [],
   "source": [
    "import micropip\n",
    "await micropip.install(['pandas', 'shapely', 'pyproj', 'pydeck', 'dubo'])"
   ]
  },
  {
   "cell_type": "markdown",
   "id": "c8f5da24",
   "metadata": {},
   "source": [
    "<h1 style='text-align:left;font-size:6rem;'><span style='color:cornflowerblue;'>dubo</span> makes data analysis simple </h1>\n",
    "\n",
    "<p style=\"text-align:left;\">Use <a href=\"https://e2eml.school/transformers.html\">GPTs</a> tuned with SQL queries to make EDA fast and easy.</p>\n",
    "\n",
    "<section style='background:cornflowerblue;height:100px;color:white;font-family:monospace;white-space:pre;padding-top:1rem;margin-top:1rem;'>\n",
    "    <span style=\"color:white;font-weight:bold;\">dubo</span>.<span style=\"color:white;font-weight:bold;\">ask</span>(\"What's the most populous ZIP code in the United States?\", df)\n",
    "    > 77449\n",
    "</section>\n",
    "\n",
    "To install, simply run `pip install dubo`"
   ]
  },
  {
   "cell_type": "code",
   "execution_count": null,
   "id": "a6ba1e28",
   "metadata": {},
   "outputs": [],
   "source": [
    "import pydeck as pdk\n",
    "import pandas as pd\n",
    "import dubo\n",
    "\n",
    "\n",
    "# Grab a subset of data grouped by ZIP code from the 2021 American Community Survey\n",
    "DATA_URL = (\n",
    "    'https://raw.githubusercontent.com/ajduberstein/'\n",
    "    'geo_datasets/master/2021_5_yr_acs.csv'\n",
    ")\n",
    "census_df = pd.read_csv(open_url(DATA_URL))\n",
    "census_df.head()"
   ]
  },
  {
   "cell_type": "code",
   "execution_count": null,
   "id": "e3e37014",
   "metadata": {},
   "outputs": [],
   "source": [
    "dubo.ask(\"What's the most populous ZIP code in the United States?\", census_df)"
   ]
  },
  {
   "cell_type": "code",
   "execution_count": null,
   "id": "5b724e21",
   "metadata": {},
   "outputs": [],
   "source": [
    "dubo.ask(\n",
    "    \"What are the ten ZIP codes with the largest Hispanic \"\n",
    "    \"populations in the United States?\", census_df)"
   ]
  },
  {
   "cell_type": "code",
   "execution_count": null,
   "id": "24efcfa5",
   "metadata": {},
   "outputs": [],
   "source": [
    "# Try it yourself!\n",
    "display(df.head())\n",
    "dubo.ask(\"Your query here...\", df)"
   ]
  },
  {
   "cell_type": "code",
   "execution_count": null,
   "id": "518bf38f",
   "metadata": {},
   "outputs": [],
   "source": [
    "## COMING SOON - Joins\n",
    "# \n",
    "# dubo.ask(\n",
    "#     \"Where are the wealthiest under-65 ZIP codes in the United States?\",\n",
    "#     [census_df, zip_code_locations_df])\n",
    "#\n",
    "## COMING SOON - Follow-up queries\n",
    "# \n",
    "# dubo.followup(\"Which of those areas are majority non-white?\")\n",
    "#\n",
    "## COMING SOON - Direct SQL connections\n",
    "## COMING SOON - Fine-tune to your company's database "
   ]
  },
  {
   "cell_type": "markdown",
   "id": "e1c99fe5",
   "metadata": {},
   "source": [
    "Interested in accelerating your analytics? Apply for our pilot program: support@mercator.tech"
   ]
  }
 ],
 "metadata": {
  "kernelspec": {
   "display_name": "Python 3 (ipykernel)",
   "language": "python",
   "name": "python3"
  },
  "language_info": {
   "codemirror_mode": {
    "name": "ipython",
    "version": 3
   },
   "file_extension": ".py",
   "mimetype": "text/x-python",
   "name": "python",
   "nbconvert_exporter": "python",
   "pygments_lexer": "ipython3",
   "version": "3.10.5"
  }
 },
 "nbformat": 4,
 "nbformat_minor": 5
}
